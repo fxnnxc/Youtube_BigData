{
 "metadata": {
  "language_info": {
   "codemirror_mode": {
    "name": "ipython",
    "version": 3
   },
   "file_extension": ".py",
   "mimetype": "text/x-python",
   "name": "python",
   "nbconvert_exporter": "python",
   "pygments_lexer": "ipython3",
   "version": "3.7.4-final"
  },
  "orig_nbformat": 2,
  "kernelspec": {
   "name": "python_defaultSpec_1596625026806",
   "display_name": "Python 3.7.4 64-bit ('base': conda)"
  }
 },
 "nbformat": 4,
 "nbformat_minor": 2,
 "cells": [
  {
   "cell_type": "code",
   "execution_count": 32,
   "metadata": {},
   "outputs": [],
   "source": [
    "from gensim.models import Word2Vec\n",
    "import pandas as pd\n",
    "\n",
    "data= pd.read_excel('data.xlsx')\n",
    "\n",
    "corpus = data.comment\n",
    "corpus = [str(i).split() for i in corpus]"
   ]
  },
  {
   "cell_type": "code",
   "execution_count": 36,
   "metadata": {},
   "outputs": [
    {
     "output_type": "execute_result",
     "data": {
      "text/plain": "[('헤어지지', 0.8605681657791138),\n ('마라', 0.8596459031105042),\n ('없나요?', 0.8557467460632324),\n ('안타깝', 0.8530900478363037),\n ('거야', 0.8431053161621094),\n ('일주일만', 0.8394676446914673),\n ('건데', 0.8385365009307861),\n ('언니', 0.8324769139289856),\n ('안타까운데', 0.8280643224716187),\n ('돌아볼꺼면서', 0.8242030143737793)]"
     },
     "metadata": {},
     "execution_count": 36
    }
   ],
   "source": [
    "embedding_model = Word2Vec(corpus, size=100, window = 2, min_count=1, workers=4, iter=100, sg=1)"
   ]
  },
  {
   "cell_type": "code",
   "execution_count": 37,
   "metadata": {
    "tags": []
   },
   "outputs": [
    {
     "output_type": "execute_result",
     "data": {
      "text/plain": "[('헤어지지', 0.8605681657791138),\n ('마라', 0.8596459031105042),\n ('없나요?', 0.8557467460632324),\n ('안타깝', 0.8530900478363037),\n ('거야', 0.8431053161621094),\n ('일주일만', 0.8394676446914673),\n ('건데', 0.8385365009307861),\n ('언니', 0.8324769139289856),\n ('안타까운데', 0.8280643224716187),\n ('돌아볼꺼면서', 0.8242030143737793)]"
     },
     "metadata": {},
     "execution_count": 37
    }
   ],
   "source": [
    "embedding_model.most_similar(positive=['ㅠㅠ'])"
   ]
  },
  {
   "cell_type": "code",
   "execution_count": 42,
   "metadata": {},
   "outputs": [
    {
     "output_type": "execute_result",
     "data": {
      "text/plain": "[('알아본', 0.9869447946548462),\n ('마지막회라니', 0.9836039543151855),\n ('언빌리버블', 0.9831386208534241),\n ('거품이네ㅋ', 0.9825533628463745),\n ('이뻐서', 0.9811460971832275),\n ('20화로', 0.9806723594665527),\n ('하..', 0.9802454113960266),\n ('고아라가', 0.979671835899353),\n ('보라니..', 0.979515016078949),\n ('모른다고', 0.9789713621139526)]"
     },
     "metadata": {},
     "execution_count": 42
    }
   ],
   "source": [
    "embedding_model.most_similar(positive=['미친'])"
   ]
  },
  {
   "cell_type": "code",
   "execution_count": null,
   "metadata": {},
   "outputs": [],
   "source": []
  }
 ]
}
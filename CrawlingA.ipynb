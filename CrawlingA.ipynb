{
  "nbformat": 4,
  "nbformat_minor": 0,
  "metadata": {
    "colab": {
      "name": "CrawlingA.ipynb",
      "provenance": [],
      "collapsed_sections": [],
      "authorship_tag": "ABX9TyMRAZ1u8+Ncb1gOBlV2NUv7",
      "include_colab_link": true
    },
    "kernelspec": {
      "name": "python_defaultSpec_1596627252284",
      "display_name": "Python 3.7.4 64-bit ('base': conda)"
    }
  },
  "cells": [
    {
      "cell_type": "markdown",
      "metadata": {
        "id": "view-in-github",
        "colab_type": "text"
      },
      "source": [
        "<a href=\"https://colab.research.google.com/github/fxnnxc/Youtube_BigData/blob/master/CrawlingA.ipynb\" target=\"_parent\"><img src=\"https://colab.research.google.com/assets/colab-badge.svg\" alt=\"Open In Colab\"/></a>"
      ]
    },
    {
      "cell_type": "markdown",
      "metadata": {
        "id": "gag35vRelKkC",
        "colab_type": "text"
      },
      "source": [
        "# Youtube 댓글 Crawling"
      ]
    },
    {
      "cell_type": "code",
      "metadata": {
        "id": "gCmlcErO4uaU",
        "colab_type": "code",
        "colab": {
          "base_uri": "https://localhost:8080/",
          "height": 503
        },
        "outputId": "98034f4d-41a8-4640-fb52-7d6973a8d232",
        "tags": []
      },
      "source": [
        "!pip install selenium\n",
        "!apt-get update \n",
        "!apt install chromium-chromedriver\n",
        "\n",
        "from selenium import webdriver\n",
        "chrome_options = webdriver.ChromeOptions()\n",
        "chrome_options.add_argument('--headless')\n",
        "chrome_options.add_argument('--no-sandbox')\n",
        "chrome_options.add_argument('--disable-dev-shm-usage')\n",
        "wd = webdriver.Chrome('chromedriver',options=chrome_options)\n",
        "driver =webdriver.Chrome('chromedriver',options=chrome_options)\n",
        "#wd = webdriver.Chrome('chromedriver',chrome_options=chrome_options)\n",
        "#driver =webdriver.Chrome('chromedriver',chrome_options=chrome_options)"
      ],
      "execution_count": 1,
      "outputs": [
        {
          "output_type": "stream",
          "name": "stdout",
          "text": "Collecting selenium\n  Downloading https://files.pythonhosted.org/packages/80/d6/4294f0b4bce4de0abf13e17190289f9d0613b0a44e5dd6a7f5ca98459853/selenium-3.141.0-py2.py3-none-any.whl (904kB)\nCollecting urllib3\n  Downloading https://files.pythonhosted.org/packages/9f/f0/a391d1463ebb1b233795cabfc0ef38d3db4442339de68f847026199e69d7/urllib3-1.25.10-py2.py3-none-any.whl (127kB)\nInstalling collected packages: urllib3, selenium\nSuccessfully installed selenium-3.141.0 urllib3-1.25.10\n'apt-get'��(��) ���� �Ǵ� �ܺ� ����, ������ �� �ִ� ���α׷�, �Ǵ�\n��ġ ������ �ƴմϴ�.\n'apt'��(��) ���� �Ǵ� �ܺ� ����, ������ �� �ִ� ���α׷�, �Ǵ�\n��ġ ������ �ƴմϴ�.\n"
        },
        {
          "output_type": "error",
          "ename": "WebDriverException",
          "evalue": "Message: 'chromedriver' executable needs to be in PATH. Please see https://sites.google.com/a/chromium.org/chromedriver/home\n",
          "traceback": [
            "\u001b[1;31m---------------------------------------------------------------------------\u001b[0m",
            "\u001b[1;31mFileNotFoundError\u001b[0m                         Traceback (most recent call last)",
            "\u001b[1;32m~\\Anaconda3\\envs\\StudyHelper\\lib\\site-packages\\selenium\\webdriver\\common\\service.py\u001b[0m in \u001b[0;36mstart\u001b[1;34m(self)\u001b[0m\n\u001b[0;32m     75\u001b[0m                                             \u001b[0mstderr\u001b[0m\u001b[1;33m=\u001b[0m\u001b[0mself\u001b[0m\u001b[1;33m.\u001b[0m\u001b[0mlog_file\u001b[0m\u001b[1;33m,\u001b[0m\u001b[1;33m\u001b[0m\u001b[1;33m\u001b[0m\u001b[0m\n\u001b[1;32m---> 76\u001b[1;33m                                             stdin=PIPE)\n\u001b[0m\u001b[0;32m     77\u001b[0m         \u001b[1;32mexcept\u001b[0m \u001b[0mTypeError\u001b[0m\u001b[1;33m:\u001b[0m\u001b[1;33m\u001b[0m\u001b[1;33m\u001b[0m\u001b[0m\n",
            "\u001b[1;32m~\\Anaconda3\\envs\\StudyHelper\\lib\\subprocess.py\u001b[0m in \u001b[0;36m__init__\u001b[1;34m(self, args, bufsize, executable, stdin, stdout, stderr, preexec_fn, close_fds, shell, cwd, env, universal_newlines, startupinfo, creationflags, restore_signals, start_new_session, pass_fds, encoding, errors, text)\u001b[0m\n\u001b[0;32m    799\u001b[0m                                 \u001b[0merrread\u001b[0m\u001b[1;33m,\u001b[0m \u001b[0merrwrite\u001b[0m\u001b[1;33m,\u001b[0m\u001b[1;33m\u001b[0m\u001b[1;33m\u001b[0m\u001b[0m\n\u001b[1;32m--> 800\u001b[1;33m                                 restore_signals, start_new_session)\n\u001b[0m\u001b[0;32m    801\u001b[0m         \u001b[1;32mexcept\u001b[0m\u001b[1;33m:\u001b[0m\u001b[1;33m\u001b[0m\u001b[1;33m\u001b[0m\u001b[0m\n",
            "\u001b[1;32m~\\Anaconda3\\envs\\StudyHelper\\lib\\subprocess.py\u001b[0m in \u001b[0;36m_execute_child\u001b[1;34m(self, args, executable, preexec_fn, close_fds, pass_fds, cwd, env, startupinfo, creationflags, shell, p2cread, p2cwrite, c2pread, c2pwrite, errread, errwrite, unused_restore_signals, unused_start_new_session)\u001b[0m\n\u001b[0;32m   1206\u001b[0m                                          \u001b[0mos\u001b[0m\u001b[1;33m.\u001b[0m\u001b[0mfspath\u001b[0m\u001b[1;33m(\u001b[0m\u001b[0mcwd\u001b[0m\u001b[1;33m)\u001b[0m \u001b[1;32mif\u001b[0m \u001b[0mcwd\u001b[0m \u001b[1;32mis\u001b[0m \u001b[1;32mnot\u001b[0m \u001b[1;32mNone\u001b[0m \u001b[1;32melse\u001b[0m \u001b[1;32mNone\u001b[0m\u001b[1;33m,\u001b[0m\u001b[1;33m\u001b[0m\u001b[1;33m\u001b[0m\u001b[0m\n\u001b[1;32m-> 1207\u001b[1;33m                                          startupinfo)\n\u001b[0m\u001b[0;32m   1208\u001b[0m             \u001b[1;32mfinally\u001b[0m\u001b[1;33m:\u001b[0m\u001b[1;33m\u001b[0m\u001b[1;33m\u001b[0m\u001b[0m\n",
            "\u001b[1;31mFileNotFoundError\u001b[0m: [WinError 2] 지정된 파일을 찾을 수 없습니다",
            "\nDuring handling of the above exception, another exception occurred:\n",
            "\u001b[1;31mWebDriverException\u001b[0m                        Traceback (most recent call last)",
            "\u001b[1;32m<ipython-input-1-d452d1203edb>\u001b[0m in \u001b[0;36m<module>\u001b[1;34m\u001b[0m\n\u001b[0;32m      8\u001b[0m \u001b[0mchrome_options\u001b[0m\u001b[1;33m.\u001b[0m\u001b[0madd_argument\u001b[0m\u001b[1;33m(\u001b[0m\u001b[1;34m'--no-sandbox'\u001b[0m\u001b[1;33m)\u001b[0m\u001b[1;33m\u001b[0m\u001b[1;33m\u001b[0m\u001b[0m\n\u001b[0;32m      9\u001b[0m \u001b[0mchrome_options\u001b[0m\u001b[1;33m.\u001b[0m\u001b[0madd_argument\u001b[0m\u001b[1;33m(\u001b[0m\u001b[1;34m'--disable-dev-shm-usage'\u001b[0m\u001b[1;33m)\u001b[0m\u001b[1;33m\u001b[0m\u001b[1;33m\u001b[0m\u001b[0m\n\u001b[1;32m---> 10\u001b[1;33m \u001b[0mwd\u001b[0m \u001b[1;33m=\u001b[0m \u001b[0mwebdriver\u001b[0m\u001b[1;33m.\u001b[0m\u001b[0mChrome\u001b[0m\u001b[1;33m(\u001b[0m\u001b[1;34m'chromedriver'\u001b[0m\u001b[1;33m,\u001b[0m\u001b[0moptions\u001b[0m\u001b[1;33m=\u001b[0m\u001b[0mchrome_options\u001b[0m\u001b[1;33m)\u001b[0m\u001b[1;33m\u001b[0m\u001b[1;33m\u001b[0m\u001b[0m\n\u001b[0m\u001b[0;32m     11\u001b[0m \u001b[0mdriver\u001b[0m \u001b[1;33m=\u001b[0m\u001b[0mwebdriver\u001b[0m\u001b[1;33m.\u001b[0m\u001b[0mChrome\u001b[0m\u001b[1;33m(\u001b[0m\u001b[1;34m'chromedriver'\u001b[0m\u001b[1;33m,\u001b[0m\u001b[0moptions\u001b[0m\u001b[1;33m=\u001b[0m\u001b[0mchrome_options\u001b[0m\u001b[1;33m)\u001b[0m\u001b[1;33m\u001b[0m\u001b[1;33m\u001b[0m\u001b[0m\n\u001b[0;32m     12\u001b[0m \u001b[1;31m#wd = webdriver.Chrome('chromedriver',chrome_options=chrome_options)\u001b[0m\u001b[1;33m\u001b[0m\u001b[1;33m\u001b[0m\u001b[1;33m\u001b[0m\u001b[0m\n",
            "\u001b[1;32m~\\Anaconda3\\envs\\StudyHelper\\lib\\site-packages\\selenium\\webdriver\\chrome\\webdriver.py\u001b[0m in \u001b[0;36m__init__\u001b[1;34m(self, executable_path, port, options, service_args, desired_capabilities, service_log_path, chrome_options, keep_alive)\u001b[0m\n\u001b[0;32m     71\u001b[0m             \u001b[0mservice_args\u001b[0m\u001b[1;33m=\u001b[0m\u001b[0mservice_args\u001b[0m\u001b[1;33m,\u001b[0m\u001b[1;33m\u001b[0m\u001b[1;33m\u001b[0m\u001b[0m\n\u001b[0;32m     72\u001b[0m             log_path=service_log_path)\n\u001b[1;32m---> 73\u001b[1;33m         \u001b[0mself\u001b[0m\u001b[1;33m.\u001b[0m\u001b[0mservice\u001b[0m\u001b[1;33m.\u001b[0m\u001b[0mstart\u001b[0m\u001b[1;33m(\u001b[0m\u001b[1;33m)\u001b[0m\u001b[1;33m\u001b[0m\u001b[1;33m\u001b[0m\u001b[0m\n\u001b[0m\u001b[0;32m     74\u001b[0m \u001b[1;33m\u001b[0m\u001b[0m\n\u001b[0;32m     75\u001b[0m         \u001b[1;32mtry\u001b[0m\u001b[1;33m:\u001b[0m\u001b[1;33m\u001b[0m\u001b[1;33m\u001b[0m\u001b[0m\n",
            "\u001b[1;32m~\\Anaconda3\\envs\\StudyHelper\\lib\\site-packages\\selenium\\webdriver\\common\\service.py\u001b[0m in \u001b[0;36mstart\u001b[1;34m(self)\u001b[0m\n\u001b[0;32m     81\u001b[0m                 raise WebDriverException(\n\u001b[0;32m     82\u001b[0m                     \"'%s' executable needs to be in PATH. %s\" % (\n\u001b[1;32m---> 83\u001b[1;33m                         os.path.basename(self.path), self.start_error_message)\n\u001b[0m\u001b[0;32m     84\u001b[0m                 )\n\u001b[0;32m     85\u001b[0m             \u001b[1;32melif\u001b[0m \u001b[0merr\u001b[0m\u001b[1;33m.\u001b[0m\u001b[0merrno\u001b[0m \u001b[1;33m==\u001b[0m \u001b[0merrno\u001b[0m\u001b[1;33m.\u001b[0m\u001b[0mEACCES\u001b[0m\u001b[1;33m:\u001b[0m\u001b[1;33m\u001b[0m\u001b[1;33m\u001b[0m\u001b[0m\n",
            "\u001b[1;31mWebDriverException\u001b[0m: Message: 'chromedriver' executable needs to be in PATH. Please see https://sites.google.com/a/chromium.org/chromedriver/home\n"
          ]
        }
      ]
    },
    {
      "cell_type": "code",
      "metadata": {
        "id": "aj_vGzask1Ys",
        "colab_type": "code",
        "colab": {}
      },
      "source": [
        "import pandas as pd\n",
        "from bs4 import BeautifulSoup\n",
        "import time\n",
        "\n",
        "def get_comments_df(url):\n",
        "    driver =webdriver.Chrome('chromedriver',chrome_options=chrome_options)\n",
        "    driver.get(url)\n",
        "    last_page_height = driver.execute_script(\"return document.documentElement.scrollHeight\")\n",
        "\n",
        "    while True:\n",
        "        driver.execute_script(\"window.scrollTo(0, document.documentElement.scrollHeight);\")\n",
        "        time.sleep(4.0)       # 인터발 1이상으로 줘야 데이터 취득가능(롤링시 데이터 로딩 시간 때문)\n",
        "        new_page_height = driver.execute_script(\"return document.documentElement.scrollHeight\")\n",
        "\n",
        "        if new_page_height == last_page_height:\n",
        "            break\n",
        "        last_page_height = new_page_height\n",
        "    html_source = driver.page_source\n",
        "    \n",
        "\n",
        "    # HTML 태크 크롤링 작업\n",
        "    soup = BeautifulSoup(html_source, \"lxml\")\n",
        "    youtube_user_IDs = soup.select(\"div#header-author > a > span\")\n",
        "    youtube_comments = soup.select(\"yt-formatted-string#content-text\")\n",
        "    youtube_likes = soup.select(\"span#vote-count-middle\")\n",
        "    str_youtube_userIDs = []   # USER ID 배열\n",
        "    str_youtube_comments = []  # USER 댓글 내용 배열\n",
        "    str_like = []\n",
        "\n",
        "    # REPLACE DATA\n",
        "    for i in range(len(youtube_user_IDs)):\n",
        "        str_tmp = str(youtube_user_IDs[i].text)\n",
        "        str_tmp = str_tmp.replace('\\n', '')\n",
        "        str_tmp = str_tmp.replace('\\t', '')\n",
        "        str_tmp = str_tmp.replace('   ','')\n",
        "        str_youtube_userIDs.append(str_tmp)\n",
        "\n",
        "        str_tmp = str(youtube_comments[i].text)\n",
        "        str_tmp = str_tmp.replace('\\n', '')\n",
        "        str_tmp = str_tmp.replace('\\t', '')\n",
        "        str_tmp = str_tmp.replace('   ','')\n",
        "        str_youtube_comments.append(str_tmp)\n",
        "        \n",
        "        str_temp = str(youtube_likes[i].text)\n",
        "        str_temp = str_temp.replace('\\n','')\n",
        "        str_temp = str_temp.replace(\" \", '')\n",
        "        str_like.append(str_temp)\n",
        "\n",
        "\n",
        "    pd_data = {\"comment\":str_youtube_comments, 'likes':str_like}\n",
        "    youtube_pd = pd.DataFrame(pd_data)\n",
        "    driver.close()\n",
        "\n",
        "    return youtube_pd\n",
        "\n"
      ],
      "execution_count": null,
      "outputs": []
    },
    {
      "cell_type": "code",
      "metadata": {
        "id": "siW1t1Ni6FbM",
        "colab_type": "code",
        "colab": {}
      },
      "source": [
        "# 슬기로운 노다가생활\n",
        "\n",
        "url_sulgi = \"\"\"https://www.youtube.com/watch?v=0eHU3MUk6rc&list=PLdyB3s37qpTNCur1L88nYLJQgZfgzK5Sn&index=73\n",
        "https://www.youtube.com/watch?v=ojkadJ0g3Cc&list=PLdyB3s37qpTNCur1L88nYLJQgZfgzK5Sn&index=67\n",
        "https://www.youtube.com/watch?v=hu1dUmaB1ik&list=PLdyB3s37qpTNCur1L88nYLJQgZfgzK5Sn&index=60\n",
        "https://www.youtube.com/watch?v=IyxpeEgV2sY&list=PLdyB3s37qpTNCur1L88nYLJQgZfgzK5Sn&index=57\n",
        "https://www.youtube.com/watch?v=8VEgHf47CuM&list=PLdyB3s37qpTNCur1L88nYLJQgZfgzK5Sn&index=48\n",
        "https://www.youtube.com/watch?v=TFODQ9aJQFs&list=PLdyB3s37qpTNCur1L88nYLJQgZfgzK5Sn&index=42\n",
        "https://www.youtube.com/watch?v=JG-Yr2q-2VQ&list=PLdyB3s37qpTNCur1L88nYLJQgZfgzK5Sn&index=36\n",
        "https://www.youtube.com/watch?v=2_l_4fgEhYQ&list=PLdyB3s37qpTNCur1L88nYLJQgZfgzK5Sn&index=30\n",
        "https://www.youtube.com/watch?v=xiKULEAbTRw&list=PLdyB3s37qpTNCur1L88nYLJQgZfgzK5Sn&index=23\n",
        "https://www.youtube.com/watch?v=zByR5OXaSsk&list=PLdyB3s37qpTNCur1L88nYLJQgZfgzK5Sn&index=17\n",
        "https://www.youtube.com/watch?v=NwVdfT4E7dI&list=PLdyB3s37qpTNCur1L88nYLJQgZfgzK5Sn&index=10\"\"\"\n",
        "\n",
        "url_sulgi = url_sulgi.split(\"\\n\")"
      ],
      "execution_count": null,
      "outputs": []
    },
    {
      "cell_type": "code",
      "metadata": {
        "id": "7Yfc05-DAy6f",
        "colab_type": "code",
        "colab": {
          "base_uri": "https://localhost:8080/",
          "height": 1000
        },
        "outputId": "7316e8f5-135c-4b6a-a96f-1de52198b05b"
      },
      "source": [
        "df_all = pd.DataFrame([], columns=['number','comment', 'likes'])\n",
        "\n",
        "for i,url in enumerate(url_sulgi):\n",
        "    df = get_comments_df(url)\n",
        "    df['number'] = i+2\n",
        "    df_all = df_all.append(df)\n",
        "    print(i, df_all.shape)\n",
        "\n",
        "\n",
        "df_all"
      ],
      "execution_count": null,
      "outputs": [
        {
          "output_type": "stream",
          "text": [
            "/usr/local/lib/python3.6/dist-packages/ipykernel_launcher.py:6: DeprecationWarning: use options instead of chrome_options\n",
            "  \n"
          ],
          "name": "stderr"
        },
        {
          "output_type": "stream",
          "text": [
            "0 (10, 3)\n"
          ],
          "name": "stdout"
        },
        {
          "output_type": "stream",
          "text": [
            "/usr/local/lib/python3.6/dist-packages/ipykernel_launcher.py:6: DeprecationWarning: use options instead of chrome_options\n",
            "  \n"
          ],
          "name": "stderr"
        },
        {
          "output_type": "stream",
          "text": [
            "1 (24, 3)\n"
          ],
          "name": "stdout"
        },
        {
          "output_type": "stream",
          "text": [
            "/usr/local/lib/python3.6/dist-packages/ipykernel_launcher.py:6: DeprecationWarning: use options instead of chrome_options\n",
            "  \n"
          ],
          "name": "stderr"
        },
        {
          "output_type": "stream",
          "text": [
            "2 (41, 3)\n"
          ],
          "name": "stdout"
        },
        {
          "output_type": "stream",
          "text": [
            "/usr/local/lib/python3.6/dist-packages/ipykernel_launcher.py:6: DeprecationWarning: use options instead of chrome_options\n",
            "  \n"
          ],
          "name": "stderr"
        },
        {
          "output_type": "stream",
          "text": [
            "3 (58, 3)\n"
          ],
          "name": "stdout"
        },
        {
          "output_type": "stream",
          "text": [
            "/usr/local/lib/python3.6/dist-packages/ipykernel_launcher.py:6: DeprecationWarning: use options instead of chrome_options\n",
            "  \n"
          ],
          "name": "stderr"
        },
        {
          "output_type": "stream",
          "text": [
            "4 (144, 3)\n"
          ],
          "name": "stdout"
        },
        {
          "output_type": "stream",
          "text": [
            "/usr/local/lib/python3.6/dist-packages/ipykernel_launcher.py:6: DeprecationWarning: use options instead of chrome_options\n",
            "  \n"
          ],
          "name": "stderr"
        },
        {
          "output_type": "stream",
          "text": [
            "5 (181, 3)\n"
          ],
          "name": "stdout"
        },
        {
          "output_type": "stream",
          "text": [
            "/usr/local/lib/python3.6/dist-packages/ipykernel_launcher.py:6: DeprecationWarning: use options instead of chrome_options\n",
            "  \n"
          ],
          "name": "stderr"
        },
        {
          "output_type": "stream",
          "text": [
            "6 (289, 3)\n"
          ],
          "name": "stdout"
        },
        {
          "output_type": "stream",
          "text": [
            "/usr/local/lib/python3.6/dist-packages/ipykernel_launcher.py:6: DeprecationWarning: use options instead of chrome_options\n",
            "  \n"
          ],
          "name": "stderr"
        },
        {
          "output_type": "stream",
          "text": [
            "7 (337, 3)\n"
          ],
          "name": "stdout"
        },
        {
          "output_type": "stream",
          "text": [
            "/usr/local/lib/python3.6/dist-packages/ipykernel_launcher.py:6: DeprecationWarning: use options instead of chrome_options\n",
            "  \n"
          ],
          "name": "stderr"
        },
        {
          "output_type": "stream",
          "text": [
            "8 (456, 3)\n"
          ],
          "name": "stdout"
        },
        {
          "output_type": "stream",
          "text": [
            "/usr/local/lib/python3.6/dist-packages/ipykernel_launcher.py:6: DeprecationWarning: use options instead of chrome_options\n",
            "  \n"
          ],
          "name": "stderr"
        },
        {
          "output_type": "stream",
          "text": [
            "9 (698, 3)\n"
          ],
          "name": "stdout"
        },
        {
          "output_type": "stream",
          "text": [
            "/usr/local/lib/python3.6/dist-packages/ipykernel_launcher.py:6: DeprecationWarning: use options instead of chrome_options\n",
            "  \n"
          ],
          "name": "stderr"
        },
        {
          "output_type": "stream",
          "text": [
            "10 (776, 3)\n"
          ],
          "name": "stdout"
        },
        {
          "output_type": "execute_result",
          "data": {
            "text/html": [
              "<div>\n",
              "<style scoped>\n",
              "    .dataframe tbody tr th:only-of-type {\n",
              "        vertical-align: middle;\n",
              "    }\n",
              "\n",
              "    .dataframe tbody tr th {\n",
              "        vertical-align: top;\n",
              "    }\n",
              "\n",
              "    .dataframe thead th {\n",
              "        text-align: right;\n",
              "    }\n",
              "</style>\n",
              "<table border=\"1\" class=\"dataframe\">\n",
              "  <thead>\n",
              "    <tr style=\"text-align: right;\">\n",
              "      <th></th>\n",
              "      <th>number</th>\n",
              "      <th>comment</th>\n",
              "      <th>likes</th>\n",
              "    </tr>\n",
              "  </thead>\n",
              "  <tbody>\n",
              "    <tr>\n",
              "      <th>0</th>\n",
              "      <td>2</td>\n",
              "      <td>0:13 0:13 내 수술 들어올래? 이거 진짜 미친 거 아님? 누가 수술 들어올래...</td>\n",
              "      <td>59</td>\n",
              "    </tr>\n",
              "    <tr>\n",
              "      <th>1</th>\n",
              "      <td>2</td>\n",
              "      <td>조정석 너무잘생김 ..</td>\n",
              "      <td>32</td>\n",
              "    </tr>\n",
              "    <tr>\n",
              "      <th>2</th>\n",
              "      <td>2</td>\n",
              "      <td>화신이가 수술들어오라는 것 같앜ㅋㅋㅋㅋ♡♡ 짜릿햌ㅋㅋㅋㅌㅋ</td>\n",
              "      <td>13</td>\n",
              "    </tr>\n",
              "    <tr>\n",
              "      <th>3</th>\n",
              "      <td>2</td>\n",
              "      <td>내 심장부터 먼저 수술해라...</td>\n",
              "      <td>13</td>\n",
              "    </tr>\n",
              "    <tr>\n",
              "      <th>4</th>\n",
              "      <td>2</td>\n",
              "      <td>미처ㅠㅠㅠㅠㅠㅠㅠㅠ이 영상보고 오나귀 다시 정주행하러 달려갑니다ㅜㅜㅜㅜㅜ하ㅜㅜ</td>\n",
              "      <td>8</td>\n",
              "    </tr>\n",
              "    <tr>\n",
              "      <th>...</th>\n",
              "      <td>...</td>\n",
              "      <td>...</td>\n",
              "      <td>...</td>\n",
              "    </tr>\n",
              "    <tr>\n",
              "      <th>73</th>\n",
              "      <td>12</td>\n",
              "      <td>English pleyazzzzz</td>\n",
              "      <td>0</td>\n",
              "    </tr>\n",
              "    <tr>\n",
              "      <th>74</th>\n",
              "      <td>12</td>\n",
              "      <td>아..... 송화 치홍에 미련을 못버렸었는데.... 오늘 폭망이네.... 송화 익준...</td>\n",
              "      <td>1</td>\n",
              "    </tr>\n",
              "    <tr>\n",
              "      <th>75</th>\n",
              "      <td>12</td>\n",
              "      <td>익송 익송 익송 익송 익송 익송 익송 익송 익송 익송 익송 익송 익송 익송 익송 익...</td>\n",
              "      <td>0</td>\n",
              "    </tr>\n",
              "    <tr>\n",
              "      <th>76</th>\n",
              "      <td>12</td>\n",
              "      <td>솔직히 채송화 반말하는 안치홍한테 설렜잖아ㅜㅜ 설렜다고 말해!! 왜 말을 못하냐고!!</td>\n",
              "      <td>3</td>\n",
              "    </tr>\n",
              "    <tr>\n",
              "      <th>77</th>\n",
              "      <td>12</td>\n",
              "      <td>치홍이는 눈치껏 빠져라 쫌 옆에서 그러는거 꼴보기싫다</td>\n",
              "      <td>2</td>\n",
              "    </tr>\n",
              "  </tbody>\n",
              "</table>\n",
              "<p>776 rows × 3 columns</p>\n",
              "</div>"
            ],
            "text/plain": [
              "   number                                            comment likes\n",
              "0       2  0:13 0:13 내 수술 들어올래? 이거 진짜 미친 거 아님? 누가 수술 들어올래...    59\n",
              "1       2                                       조정석 너무잘생김 ..    32\n",
              "2       2                   화신이가 수술들어오라는 것 같앜ㅋㅋㅋㅋ♡♡ 짜릿햌ㅋㅋㅋㅌㅋ    13\n",
              "3       2                                  내 심장부터 먼저 수술해라...    13\n",
              "4       2        미처ㅠㅠㅠㅠㅠㅠㅠㅠ이 영상보고 오나귀 다시 정주행하러 달려갑니다ㅜㅜㅜㅜㅜ하ㅜㅜ     8\n",
              "..    ...                                                ...   ...\n",
              "73     12                                 English pleyazzzzz     0\n",
              "74     12  아..... 송화 치홍에 미련을 못버렸었는데.... 오늘 폭망이네.... 송화 익준...     1\n",
              "75     12  익송 익송 익송 익송 익송 익송 익송 익송 익송 익송 익송 익송 익송 익송 익송 익...     0\n",
              "76     12    솔직히 채송화 반말하는 안치홍한테 설렜잖아ㅜㅜ 설렜다고 말해!! 왜 말을 못하냐고!!     3\n",
              "77     12                      치홍이는 눈치껏 빠져라 쫌 옆에서 그러는거 꼴보기싫다     2\n",
              "\n",
              "[776 rows x 3 columns]"
            ]
          },
          "metadata": {
            "tags": []
          },
          "execution_count": 46
        }
      ]
    },
    {
      "cell_type": "code",
      "metadata": {
        "id": "3-F6gM0gBu7B",
        "colab_type": "code",
        "colab": {}
      },
      "source": [
        "df_all.to_csv(\"슬기로운의사생활예고편댓글_1_12.csv\",index=False)"
      ],
      "execution_count": null,
      "outputs": []
    },
    {
      "cell_type": "markdown",
      "metadata": {
        "id": "mup3MS2FW7DR",
        "colab_type": "text"
      },
      "source": [
        "# 스크립트"
      ]
    },
    {
      "cell_type": "code",
      "metadata": {
        "id": "cF8a9CSe0PAe",
        "colab_type": "code",
        "colab": {}
      },
      "source": [
        "\n",
        "def get_script_df(url):\n",
        "    driver =webdriver.Chrome('chromedriver',chrome_options=chrome_options)\n",
        "    driver.get(url)\n",
        "    last_page_height = driver.execute_script(\"return document.documentElement.scrollHeight\")\n",
        "\n",
        "    while True:\n",
        "        driver.execute_script(\"window.scrollTo(0, document.documentElement.scrollHeight);\")\n",
        "        time.sleep(2.0)       # 인터발 1이상으로 줘야 데이터 취득가능(롤링시 데이터 로딩 시간 때문)\n",
        "        new_page_height = driver.execute_script(\"return document.documentElement.scrollHeight\")\n",
        "\n",
        "        if new_page_height == last_page_height:\n",
        "            break\n",
        "        last_page_height = new_page_height\n",
        "    html_source = driver.page_source\n",
        "    \n",
        "\n",
        "    # HTML 태크 크롤링 작업\n",
        "    soup = BeautifulSoup(html_source, \"html\")\n",
        "    print(soup.getText())\n",
        "    youtube_user_scripts = soup.select(\"cue-group-start-offset style-scope ytd-transcript-body-renderer\")\n",
        "    print(youtube_user_scripts)\n",
        "    str_youtube_scripts = []  # 스크립트\n",
        "\n",
        "    # REPLACE DATA\n",
        "    for i in range(len(youtube_user_scripts)):\n",
        "        str_tmp = str(youtube_user_scripts[i].text)\n",
        "        str_tmp = str_tmp.replace('\\n', '')\n",
        "        str_tmp = str_tmp.replace('\\t', '')\n",
        "        str_tmp = str_tmp.replace('   ','')\n",
        "        str_youtube_scripts.append(str_tmp)\n",
        "\n",
        "\n",
        "    pd_data = {\"script\":str_youtube_scripts}\n",
        "    youtube_pd = pd.DataFrame(pd_data)\n",
        "    driver.close()\n",
        "\n",
        "    return youtube_pd\n",
        "\n"
      ],
      "execution_count": null,
      "outputs": []
    },
    {
      "cell_type": "code",
      "metadata": {
        "id": "ijwDpdwC1B6c",
        "colab_type": "code",
        "colab": {
          "base_uri": "https://localhost:8080/",
          "height": 53
        },
        "outputId": "5fa36998-cbaa-4c68-c183-09b5a78bd0d2"
      },
      "source": [
        "get_script_df(\"https://www.youtube.com/watch?v=8VEgHf47CuM&list=PLdyB3s37qpTNCur1L88nYLJQgZfgzK5Sn&index=48\")"
      ],
      "execution_count": null,
      "outputs": [
        {
          "output_type": "stream",
          "text": [
            "/usr/local/lib/python3.6/dist-packages/ipykernel_launcher.py:3: DeprecationWarning: use options instead of chrome_options\n",
            "  This is separate from the ipykernel package so we can avoid doing imports until\n"
          ],
          "name": "stderr"
        }
      ]
    },
    {
      "cell_type": "code",
      "execution_count": 155,
      "metadata": {
        "tags": []
      },
      "outputs": [
        {
          "output_type": "stream",
          "name": "stderr",
          "text": "[WDM] - Current google-chrome version is 84.0.4147\n[WDM] - Get LATEST driver version for 84.0.4147\n[WDM] - Driver [C:\\Users\\beomj\\.wdm\\drivers\\chromedriver\\win32\\84.0.4147.30\\chromedriver.exe] found in cache\n \n"
        }
      ],
      "source": [
        "from selenium import webdriver\n",
        "from webdriver_manager.chrome import ChromeDriverManager\n",
        "\n",
        "driver = webdriver.Chrome(ChromeDriverManager().install())"
      ]
    },
    {
      "cell_type": "code",
      "metadata": {
        "id": "JDhl3Jc-4Pr3",
        "colab_type": "code",
        "colab": {},
        "tags": []
      },
      "source": [
        "import time\n",
        "\n",
        "from bs4 import BeautifulSoup\n",
        "from selenium import webdriver\n",
        "from selenium.common import exceptions\n",
        "\n",
        "\n",
        "addr = \"https://tv.naver.com/jtbc.thegooddetective/talks\" \n",
        "# 크롤링하고자하는 사이트 주소\n",
        "# 개인적으론 모바일 페이지로 하는게 더 가볍고 빠를것같은 기분이 든다.\n",
        "\n",
        "driver.get(addr)\n",
        "\n",
        "comments = []\n",
        "date = []\n",
        "cur_page = []   \n",
        "\n",
        "try:\n",
        "    for P in range(5):\n",
        "        html = driver.page_source\n",
        "        dom = BeautifulSoup(html, \"lxml\")\n",
        "        comments_raw = dom.find_all(\"div\", {\"class\" : \"u_cbox_area\"})\n",
        "        for comment in comments_raw:\n",
        "            comments.append(comment.find(\"span\", {'class': \"u_cbox_contents\", \"data-lang\":\"ko\"}).text)\n",
        "            date.append(comment.find(\"span\", {'class':'u_cbox_date'}).get('data-value'))\n",
        "        cur_page.append(P*5+)\n",
        "        # 댓글 페이지가 몇개인지 모르므로.\n",
        "        for page in range(2,6):\n",
        "                print(P, page)\n",
        "                time.sleep(1.5)\n",
        "                html = driver.page_source\n",
        "                dom = BeautifulSoup(html, \"lxml\")\n",
        "\n",
        "                comments_raw = dom.find_all(\"div\", {\"class\" : \"u_cbox_area\"})\n",
        "                for comment in comments_raw:\n",
        "                    comments.append(comment.find(\"span\", {'class': \"u_cbox_contents\", \"data-lang\":\"ko\"}).text)\n",
        "                    date.append(comment.find(\"span\", {'class':'u_cbox_date'}).get('data-value'))\n",
        "                if page!=5:\n",
        "                    driver.find_element_by_link_text(str(5*P+page)).click()\n",
        "                else:\n",
        "                    driver.find_element_by_link_text(\"다음\").click()\n",
        "                time.sleep(1.5)\n",
        "\n",
        "except exceptions.ElementNotVisibleException as e: # 페이지 끝\n",
        "    pass\n",
        "    \n",
        "except Exception as e: # 다른 예외 발생시 확인\n",
        "    print(e, page)\n",
        "\n"
      ],
      "execution_count": 156,
      "outputs": [
        {
          "output_type": "stream",
          "name": "stdout",
          "text": "0 2\n0 3\n0 4\n0 5\n1 2\n1 3\n1 4\n1 5\n2 2\n2 3\nMessage: element click intercepted: Element <a href=\"#\" class=\"u_cbox_page\" data-action=\"page#move\" data-log=\"RPC.pgnum\">...</a> is not clickable at point (624, 834). Other element would receive the click: <div id=\"footer\" style=\"padding-left: 180px;\">...</div>\n  (Session info: chrome=84.0.4147.105)\n 3\n"
        }
      ]
    },
    {
      "cell_type": "code",
      "execution_count": 158,
      "metadata": {},
      "outputs": [
        {
          "output_type": "execute_result",
          "data": {
            "text/plain": "                                               comment  \\\n0                                               재미있다~~   \n1                                 서장 갑자기 개과천선,,?? 뜬금없네   \n2                             10회 기자들회식장소가 촬영장이 어디인가요?   \n3                아래분이 비숲하니 생각나네요~15일부터 비숲2해서  행복합니다 ㅎㅎ   \n4                               장승조  잘생김에 연기도 잘하면 반칙인데   \n..                                                 ...   \n235                                              역시나..   \n236                                        꼬리 자르기 들어갔네   \n237                                           남국현 까는 날   \n238                                    저러면 나가서 죽는거 아님?   \n239  부장이랑 유정렬은 오지혁 아빠를 직접죽인 범인은 아닐것임 둘다 엘리트들이고 장관후보...   \n\n                         time  \n0    2020-08-05T22:03:51+0900  \n1    2020-08-05T21:43:50+0900  \n2    2020-08-05T21:36:52+0900  \n3    2020-08-05T21:29:25+0900  \n4    2020-08-05T21:28:06+0900  \n..                        ...  \n235  2020-08-05T00:52:36+0900  \n236  2020-08-05T00:52:13+0900  \n237  2020-08-05T00:51:33+0900  \n238  2020-08-05T00:51:17+0900  \n239  2020-08-05T00:50:53+0900  \n\n[240 rows x 2 columns]",
            "text/html": "<div>\n<style scoped>\n    .dataframe tbody tr th:only-of-type {\n        vertical-align: middle;\n    }\n\n    .dataframe tbody tr th {\n        vertical-align: top;\n    }\n\n    .dataframe thead th {\n        text-align: right;\n    }\n</style>\n<table border=\"1\" class=\"dataframe\">\n  <thead>\n    <tr style=\"text-align: right;\">\n      <th></th>\n      <th>comment</th>\n      <th>time</th>\n    </tr>\n  </thead>\n  <tbody>\n    <tr>\n      <th>0</th>\n      <td>재미있다~~</td>\n      <td>2020-08-05T22:03:51+0900</td>\n    </tr>\n    <tr>\n      <th>1</th>\n      <td>서장 갑자기 개과천선,,?? 뜬금없네</td>\n      <td>2020-08-05T21:43:50+0900</td>\n    </tr>\n    <tr>\n      <th>2</th>\n      <td>10회 기자들회식장소가 촬영장이 어디인가요?</td>\n      <td>2020-08-05T21:36:52+0900</td>\n    </tr>\n    <tr>\n      <th>3</th>\n      <td>아래분이 비숲하니 생각나네요~15일부터 비숲2해서  행복합니다 ㅎㅎ</td>\n      <td>2020-08-05T21:29:25+0900</td>\n    </tr>\n    <tr>\n      <th>4</th>\n      <td>장승조  잘생김에 연기도 잘하면 반칙인데</td>\n      <td>2020-08-05T21:28:06+0900</td>\n    </tr>\n    <tr>\n      <th>...</th>\n      <td>...</td>\n      <td>...</td>\n    </tr>\n    <tr>\n      <th>235</th>\n      <td>역시나..</td>\n      <td>2020-08-05T00:52:36+0900</td>\n    </tr>\n    <tr>\n      <th>236</th>\n      <td>꼬리 자르기 들어갔네</td>\n      <td>2020-08-05T00:52:13+0900</td>\n    </tr>\n    <tr>\n      <th>237</th>\n      <td>남국현 까는 날</td>\n      <td>2020-08-05T00:51:33+0900</td>\n    </tr>\n    <tr>\n      <th>238</th>\n      <td>저러면 나가서 죽는거 아님?</td>\n      <td>2020-08-05T00:51:17+0900</td>\n    </tr>\n    <tr>\n      <th>239</th>\n      <td>부장이랑 유정렬은 오지혁 아빠를 직접죽인 범인은 아닐것임 둘다 엘리트들이고 장관후보...</td>\n      <td>2020-08-05T00:50:53+0900</td>\n    </tr>\n  </tbody>\n</table>\n<p>240 rows × 2 columns</p>\n</div>"
          },
          "metadata": {},
          "execution_count": 158
        }
      ],
      "source": [
        "import pandas as pd\n",
        "pd.DataFrame({'comment':comments, 'time':date})"
      ]
    },
    {
      "cell_type": "code",
      "execution_count": null,
      "metadata": {},
      "outputs": [],
      "source": []
    }
  ]
}
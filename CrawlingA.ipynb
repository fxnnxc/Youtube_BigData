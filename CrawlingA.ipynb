{
  "nbformat": 4,
  "nbformat_minor": 0,
  "metadata": {
    "colab": {
      "name": "CrawlingA.ipynb",
      "provenance": [],
      "collapsed_sections": [],
      "authorship_tag": "ABX9TyMRAZ1u8+Ncb1gOBlV2NUv7",
      "include_colab_link": true
    },
    "kernelspec": {
      "name": "python3",
      "display_name": "Python 3"
    }
  },
  "cells": [
    {
      "cell_type": "markdown",
      "metadata": {
        "id": "view-in-github",
        "colab_type": "text"
      },
      "source": [
        "<a href=\"https://colab.research.google.com/github/fxnnxc/Youtube_BigData/blob/master/CrawlingA.ipynb\" target=\"_parent\"><img src=\"https://colab.research.google.com/assets/colab-badge.svg\" alt=\"Open In Colab\"/></a>"
      ]
    },
    {
      "cell_type": "markdown",
      "metadata": {
        "id": "gag35vRelKkC",
        "colab_type": "text"
      },
      "source": [
        "# Youtube 댓글 Crawling"
      ]
    },
    {
      "cell_type": "code",
      "metadata": {
        "id": "gCmlcErO4uaU",
        "colab_type": "code",
        "colab": {
          "base_uri": "https://localhost:8080/",
          "height": 503
        },
        "outputId": "98034f4d-41a8-4640-fb52-7d6973a8d232"
      },
      "source": [
        "!pip install selenium\n",
        "!apt-get update \n",
        "!apt install chromium-chromedriver\n",
        "\n",
        "from selenium import webdriver\n",
        "chrome_options = webdriver.ChromeOptions()\n",
        "chrome_options.add_argument('--headless')\n",
        "chrome_options.add_argument('--no-sandbox')\n",
        "chrome_options.add_argument('--disable-dev-shm-usage')\n",
        "wd = webdriver.Chrome('chromedriver',options=chrome_options)\n",
        "driver =webdriver.Chrome('chromedriver',options=chrome_options)\n",
        "#wd = webdriver.Chrome('chromedriver',chrome_options=chrome_options)\n",
        "#driver =webdriver.Chrome('chromedriver',chrome_options=chrome_options)"
      ],
      "execution_count": null,
      "outputs": [
        {
          "output_type": "stream",
          "text": [
            "Requirement already satisfied: selenium in /usr/local/lib/python3.6/dist-packages (3.141.0)\n",
            "Requirement already satisfied: urllib3 in /usr/local/lib/python3.6/dist-packages (from selenium) (1.24.3)\n",
            "Hit:1 https://cloud.r-project.org/bin/linux/ubuntu bionic-cran35/ InRelease\n",
            "Ign:2 https://developer.download.nvidia.com/compute/cuda/repos/ubuntu1804/x86_64  InRelease\n",
            "Get:3 http://security.ubuntu.com/ubuntu bionic-security InRelease [88.7 kB]\n",
            "Hit:4 http://archive.ubuntu.com/ubuntu bionic InRelease\n",
            "Ign:5 https://developer.download.nvidia.com/compute/machine-learning/repos/ubuntu1804/x86_64  InRelease\n",
            "Hit:6 https://developer.download.nvidia.com/compute/cuda/repos/ubuntu1804/x86_64  Release\n",
            "Hit:7 https://developer.download.nvidia.com/compute/machine-learning/repos/ubuntu1804/x86_64  Release\n",
            "Get:8 http://archive.ubuntu.com/ubuntu bionic-updates InRelease [88.7 kB]\n",
            "Hit:9 http://ppa.launchpad.net/graphics-drivers/ppa/ubuntu bionic InRelease\n",
            "Hit:10 http://ppa.launchpad.net/marutter/c2d4u3.5/ubuntu bionic InRelease\n",
            "Get:11 http://archive.ubuntu.com/ubuntu bionic-backports InRelease [74.6 kB]\n",
            "Get:14 http://archive.ubuntu.com/ubuntu bionic-updates/multiverse amd64 Packages [27.2 kB]\n",
            "Get:15 http://archive.ubuntu.com/ubuntu bionic-updates/universe amd64 Packages [1,413 kB]\n",
            "Get:16 http://archive.ubuntu.com/ubuntu bionic-updates/restricted amd64 Packages [116 kB]\n",
            "Get:17 http://archive.ubuntu.com/ubuntu bionic-updates/main amd64 Packages [1,334 kB]\n",
            "Fetched 3,143 kB in 3s (1,183 kB/s)\n",
            "Reading package lists... Done\n",
            "Reading package lists... Done\n",
            "Building dependency tree       \n",
            "Reading state information... Done\n",
            "chromium-chromedriver is already the newest version (83.0.4103.61-0ubuntu0.18.04.1).\n",
            "The following package was automatically installed and is no longer required:\n",
            "  libnvidia-common-440\n",
            "Use 'apt autoremove' to remove it.\n",
            "0 upgraded, 0 newly installed, 0 to remove and 114 not upgraded.\n"
          ],
          "name": "stdout"
        }
      ]
    },
    {
      "cell_type": "code",
      "metadata": {
        "id": "aj_vGzask1Ys",
        "colab_type": "code",
        "colab": {}
      },
      "source": [
        "import pandas as pd\n",
        "from bs4 import BeautifulSoup\n",
        "import time\n",
        "\n",
        "def get_comments_df(url):\n",
        "    driver =webdriver.Chrome('chromedriver',chrome_options=chrome_options)\n",
        "    driver.get(url)\n",
        "    last_page_height = driver.execute_script(\"return document.documentElement.scrollHeight\")\n",
        "\n",
        "    while True:\n",
        "        driver.execute_script(\"window.scrollTo(0, document.documentElement.scrollHeight);\")\n",
        "        time.sleep(4.0)       # 인터발 1이상으로 줘야 데이터 취득가능(롤링시 데이터 로딩 시간 때문)\n",
        "        new_page_height = driver.execute_script(\"return document.documentElement.scrollHeight\")\n",
        "\n",
        "        if new_page_height == last_page_height:\n",
        "            break\n",
        "        last_page_height = new_page_height\n",
        "    html_source = driver.page_source\n",
        "    \n",
        "\n",
        "    # HTML 태크 크롤링 작업\n",
        "    soup = BeautifulSoup(html_source, \"lxml\")\n",
        "    youtube_user_IDs = soup.select(\"div#header-author > a > span\")\n",
        "    youtube_comments = soup.select(\"yt-formatted-string#content-text\")\n",
        "    youtube_likes = soup.select(\"span#vote-count-middle\")\n",
        "    str_youtube_userIDs = []   # USER ID 배열\n",
        "    str_youtube_comments = []  # USER 댓글 내용 배열\n",
        "    str_like = []\n",
        "\n",
        "    # REPLACE DATA\n",
        "    for i in range(len(youtube_user_IDs)):\n",
        "        str_tmp = str(youtube_user_IDs[i].text)\n",
        "        str_tmp = str_tmp.replace('\\n', '')\n",
        "        str_tmp = str_tmp.replace('\\t', '')\n",
        "        str_tmp = str_tmp.replace('   ','')\n",
        "        str_youtube_userIDs.append(str_tmp)\n",
        "\n",
        "        str_tmp = str(youtube_comments[i].text)\n",
        "        str_tmp = str_tmp.replace('\\n', '')\n",
        "        str_tmp = str_tmp.replace('\\t', '')\n",
        "        str_tmp = str_tmp.replace('   ','')\n",
        "        str_youtube_comments.append(str_tmp)\n",
        "        \n",
        "        str_temp = str(youtube_likes[i].text)\n",
        "        str_temp = str_temp.replace('\\n','')\n",
        "        str_temp = str_temp.replace(\" \", '')\n",
        "        str_like.append(str_temp)\n",
        "\n",
        "\n",
        "    pd_data = {\"comment\":str_youtube_comments, 'likes':str_like}\n",
        "    youtube_pd = pd.DataFrame(pd_data)\n",
        "    driver.close()\n",
        "\n",
        "    return youtube_pd\n",
        "\n"
      ],
      "execution_count": null,
      "outputs": []
    },
    {
      "cell_type": "code",
      "metadata": {
        "id": "siW1t1Ni6FbM",
        "colab_type": "code",
        "colab": {}
      },
      "source": [
        "# 슬기로운 노다가생활\n",
        "\n",
        "url_sulgi = \"\"\"https://www.youtube.com/watch?v=0eHU3MUk6rc&list=PLdyB3s37qpTNCur1L88nYLJQgZfgzK5Sn&index=73\n",
        "https://www.youtube.com/watch?v=ojkadJ0g3Cc&list=PLdyB3s37qpTNCur1L88nYLJQgZfgzK5Sn&index=67\n",
        "https://www.youtube.com/watch?v=hu1dUmaB1ik&list=PLdyB3s37qpTNCur1L88nYLJQgZfgzK5Sn&index=60\n",
        "https://www.youtube.com/watch?v=IyxpeEgV2sY&list=PLdyB3s37qpTNCur1L88nYLJQgZfgzK5Sn&index=57\n",
        "https://www.youtube.com/watch?v=8VEgHf47CuM&list=PLdyB3s37qpTNCur1L88nYLJQgZfgzK5Sn&index=48\n",
        "https://www.youtube.com/watch?v=TFODQ9aJQFs&list=PLdyB3s37qpTNCur1L88nYLJQgZfgzK5Sn&index=42\n",
        "https://www.youtube.com/watch?v=JG-Yr2q-2VQ&list=PLdyB3s37qpTNCur1L88nYLJQgZfgzK5Sn&index=36\n",
        "https://www.youtube.com/watch?v=2_l_4fgEhYQ&list=PLdyB3s37qpTNCur1L88nYLJQgZfgzK5Sn&index=30\n",
        "https://www.youtube.com/watch?v=xiKULEAbTRw&list=PLdyB3s37qpTNCur1L88nYLJQgZfgzK5Sn&index=23\n",
        "https://www.youtube.com/watch?v=zByR5OXaSsk&list=PLdyB3s37qpTNCur1L88nYLJQgZfgzK5Sn&index=17\n",
        "https://www.youtube.com/watch?v=NwVdfT4E7dI&list=PLdyB3s37qpTNCur1L88nYLJQgZfgzK5Sn&index=10\"\"\"\n",
        "\n",
        "url_sulgi = url_sulgi.split(\"\\n\")"
      ],
      "execution_count": null,
      "outputs": []
    },
    {
      "cell_type": "code",
      "metadata": {
        "id": "7Yfc05-DAy6f",
        "colab_type": "code",
        "colab": {
          "base_uri": "https://localhost:8080/",
          "height": 1000
        },
        "outputId": "7316e8f5-135c-4b6a-a96f-1de52198b05b"
      },
      "source": [
        "df_all = pd.DataFrame([], columns=['number','comment', 'likes'])\n",
        "\n",
        "for i,url in enumerate(url_sulgi):\n",
        "    df = get_comments_df(url)\n",
        "    df['number'] = i+2\n",
        "    df_all = df_all.append(df)\n",
        "    print(i, df_all.shape)\n",
        "\n",
        "\n",
        "df_all"
      ],
      "execution_count": null,
      "outputs": [
        {
          "output_type": "stream",
          "text": [
            "/usr/local/lib/python3.6/dist-packages/ipykernel_launcher.py:6: DeprecationWarning: use options instead of chrome_options\n",
            "  \n"
          ],
          "name": "stderr"
        },
        {
          "output_type": "stream",
          "text": [
            "0 (10, 3)\n"
          ],
          "name": "stdout"
        },
        {
          "output_type": "stream",
          "text": [
            "/usr/local/lib/python3.6/dist-packages/ipykernel_launcher.py:6: DeprecationWarning: use options instead of chrome_options\n",
            "  \n"
          ],
          "name": "stderr"
        },
        {
          "output_type": "stream",
          "text": [
            "1 (24, 3)\n"
          ],
          "name": "stdout"
        },
        {
          "output_type": "stream",
          "text": [
            "/usr/local/lib/python3.6/dist-packages/ipykernel_launcher.py:6: DeprecationWarning: use options instead of chrome_options\n",
            "  \n"
          ],
          "name": "stderr"
        },
        {
          "output_type": "stream",
          "text": [
            "2 (41, 3)\n"
          ],
          "name": "stdout"
        },
        {
          "output_type": "stream",
          "text": [
            "/usr/local/lib/python3.6/dist-packages/ipykernel_launcher.py:6: DeprecationWarning: use options instead of chrome_options\n",
            "  \n"
          ],
          "name": "stderr"
        },
        {
          "output_type": "stream",
          "text": [
            "3 (58, 3)\n"
          ],
          "name": "stdout"
        },
        {
          "output_type": "stream",
          "text": [
            "/usr/local/lib/python3.6/dist-packages/ipykernel_launcher.py:6: DeprecationWarning: use options instead of chrome_options\n",
            "  \n"
          ],
          "name": "stderr"
        },
        {
          "output_type": "stream",
          "text": [
            "4 (144, 3)\n"
          ],
          "name": "stdout"
        },
        {
          "output_type": "stream",
          "text": [
            "/usr/local/lib/python3.6/dist-packages/ipykernel_launcher.py:6: DeprecationWarning: use options instead of chrome_options\n",
            "  \n"
          ],
          "name": "stderr"
        },
        {
          "output_type": "stream",
          "text": [
            "5 (181, 3)\n"
          ],
          "name": "stdout"
        },
        {
          "output_type": "stream",
          "text": [
            "/usr/local/lib/python3.6/dist-packages/ipykernel_launcher.py:6: DeprecationWarning: use options instead of chrome_options\n",
            "  \n"
          ],
          "name": "stderr"
        },
        {
          "output_type": "stream",
          "text": [
            "6 (289, 3)\n"
          ],
          "name": "stdout"
        },
        {
          "output_type": "stream",
          "text": [
            "/usr/local/lib/python3.6/dist-packages/ipykernel_launcher.py:6: DeprecationWarning: use options instead of chrome_options\n",
            "  \n"
          ],
          "name": "stderr"
        },
        {
          "output_type": "stream",
          "text": [
            "7 (337, 3)\n"
          ],
          "name": "stdout"
        },
        {
          "output_type": "stream",
          "text": [
            "/usr/local/lib/python3.6/dist-packages/ipykernel_launcher.py:6: DeprecationWarning: use options instead of chrome_options\n",
            "  \n"
          ],
          "name": "stderr"
        },
        {
          "output_type": "stream",
          "text": [
            "8 (456, 3)\n"
          ],
          "name": "stdout"
        },
        {
          "output_type": "stream",
          "text": [
            "/usr/local/lib/python3.6/dist-packages/ipykernel_launcher.py:6: DeprecationWarning: use options instead of chrome_options\n",
            "  \n"
          ],
          "name": "stderr"
        },
        {
          "output_type": "stream",
          "text": [
            "9 (698, 3)\n"
          ],
          "name": "stdout"
        },
        {
          "output_type": "stream",
          "text": [
            "/usr/local/lib/python3.6/dist-packages/ipykernel_launcher.py:6: DeprecationWarning: use options instead of chrome_options\n",
            "  \n"
          ],
          "name": "stderr"
        },
        {
          "output_type": "stream",
          "text": [
            "10 (776, 3)\n"
          ],
          "name": "stdout"
        },
        {
          "output_type": "execute_result",
          "data": {
            "text/html": [
              "<div>\n",
              "<style scoped>\n",
              "    .dataframe tbody tr th:only-of-type {\n",
              "        vertical-align: middle;\n",
              "    }\n",
              "\n",
              "    .dataframe tbody tr th {\n",
              "        vertical-align: top;\n",
              "    }\n",
              "\n",
              "    .dataframe thead th {\n",
              "        text-align: right;\n",
              "    }\n",
              "</style>\n",
              "<table border=\"1\" class=\"dataframe\">\n",
              "  <thead>\n",
              "    <tr style=\"text-align: right;\">\n",
              "      <th></th>\n",
              "      <th>number</th>\n",
              "      <th>comment</th>\n",
              "      <th>likes</th>\n",
              "    </tr>\n",
              "  </thead>\n",
              "  <tbody>\n",
              "    <tr>\n",
              "      <th>0</th>\n",
              "      <td>2</td>\n",
              "      <td>0:13 0:13 내 수술 들어올래? 이거 진짜 미친 거 아님? 누가 수술 들어올래...</td>\n",
              "      <td>59</td>\n",
              "    </tr>\n",
              "    <tr>\n",
              "      <th>1</th>\n",
              "      <td>2</td>\n",
              "      <td>조정석 너무잘생김 ..</td>\n",
              "      <td>32</td>\n",
              "    </tr>\n",
              "    <tr>\n",
              "      <th>2</th>\n",
              "      <td>2</td>\n",
              "      <td>화신이가 수술들어오라는 것 같앜ㅋㅋㅋㅋ♡♡ 짜릿햌ㅋㅋㅋㅌㅋ</td>\n",
              "      <td>13</td>\n",
              "    </tr>\n",
              "    <tr>\n",
              "      <th>3</th>\n",
              "      <td>2</td>\n",
              "      <td>내 심장부터 먼저 수술해라...</td>\n",
              "      <td>13</td>\n",
              "    </tr>\n",
              "    <tr>\n",
              "      <th>4</th>\n",
              "      <td>2</td>\n",
              "      <td>미처ㅠㅠㅠㅠㅠㅠㅠㅠ이 영상보고 오나귀 다시 정주행하러 달려갑니다ㅜㅜㅜㅜㅜ하ㅜㅜ</td>\n",
              "      <td>8</td>\n",
              "    </tr>\n",
              "    <tr>\n",
              "      <th>...</th>\n",
              "      <td>...</td>\n",
              "      <td>...</td>\n",
              "      <td>...</td>\n",
              "    </tr>\n",
              "    <tr>\n",
              "      <th>73</th>\n",
              "      <td>12</td>\n",
              "      <td>English pleyazzzzz</td>\n",
              "      <td>0</td>\n",
              "    </tr>\n",
              "    <tr>\n",
              "      <th>74</th>\n",
              "      <td>12</td>\n",
              "      <td>아..... 송화 치홍에 미련을 못버렸었는데.... 오늘 폭망이네.... 송화 익준...</td>\n",
              "      <td>1</td>\n",
              "    </tr>\n",
              "    <tr>\n",
              "      <th>75</th>\n",
              "      <td>12</td>\n",
              "      <td>익송 익송 익송 익송 익송 익송 익송 익송 익송 익송 익송 익송 익송 익송 익송 익...</td>\n",
              "      <td>0</td>\n",
              "    </tr>\n",
              "    <tr>\n",
              "      <th>76</th>\n",
              "      <td>12</td>\n",
              "      <td>솔직히 채송화 반말하는 안치홍한테 설렜잖아ㅜㅜ 설렜다고 말해!! 왜 말을 못하냐고!!</td>\n",
              "      <td>3</td>\n",
              "    </tr>\n",
              "    <tr>\n",
              "      <th>77</th>\n",
              "      <td>12</td>\n",
              "      <td>치홍이는 눈치껏 빠져라 쫌 옆에서 그러는거 꼴보기싫다</td>\n",
              "      <td>2</td>\n",
              "    </tr>\n",
              "  </tbody>\n",
              "</table>\n",
              "<p>776 rows × 3 columns</p>\n",
              "</div>"
            ],
            "text/plain": [
              "   number                                            comment likes\n",
              "0       2  0:13 0:13 내 수술 들어올래? 이거 진짜 미친 거 아님? 누가 수술 들어올래...    59\n",
              "1       2                                       조정석 너무잘생김 ..    32\n",
              "2       2                   화신이가 수술들어오라는 것 같앜ㅋㅋㅋㅋ♡♡ 짜릿햌ㅋㅋㅋㅌㅋ    13\n",
              "3       2                                  내 심장부터 먼저 수술해라...    13\n",
              "4       2        미처ㅠㅠㅠㅠㅠㅠㅠㅠ이 영상보고 오나귀 다시 정주행하러 달려갑니다ㅜㅜㅜㅜㅜ하ㅜㅜ     8\n",
              "..    ...                                                ...   ...\n",
              "73     12                                 English pleyazzzzz     0\n",
              "74     12  아..... 송화 치홍에 미련을 못버렸었는데.... 오늘 폭망이네.... 송화 익준...     1\n",
              "75     12  익송 익송 익송 익송 익송 익송 익송 익송 익송 익송 익송 익송 익송 익송 익송 익...     0\n",
              "76     12    솔직히 채송화 반말하는 안치홍한테 설렜잖아ㅜㅜ 설렜다고 말해!! 왜 말을 못하냐고!!     3\n",
              "77     12                      치홍이는 눈치껏 빠져라 쫌 옆에서 그러는거 꼴보기싫다     2\n",
              "\n",
              "[776 rows x 3 columns]"
            ]
          },
          "metadata": {
            "tags": []
          },
          "execution_count": 46
        }
      ]
    },
    {
      "cell_type": "code",
      "metadata": {
        "id": "3-F6gM0gBu7B",
        "colab_type": "code",
        "colab": {}
      },
      "source": [
        "df_all.to_csv(\"슬기로운의사생활예고편댓글_1_12.csv\",index=False)"
      ],
      "execution_count": null,
      "outputs": []
    },
    {
      "cell_type": "markdown",
      "metadata": {
        "id": "mup3MS2FW7DR",
        "colab_type": "text"
      },
      "source": [
        "# 스크립트"
      ]
    },
    {
      "cell_type": "code",
      "metadata": {
        "id": "cF8a9CSe0PAe",
        "colab_type": "code",
        "colab": {}
      },
      "source": [
        "\n",
        "def get_script_df(url):\n",
        "    driver =webdriver.Chrome('chromedriver',chrome_options=chrome_options)\n",
        "    driver.get(url)\n",
        "    last_page_height = driver.execute_script(\"return document.documentElement.scrollHeight\")\n",
        "\n",
        "    while True:\n",
        "        driver.execute_script(\"window.scrollTo(0, document.documentElement.scrollHeight);\")\n",
        "        time.sleep(2.0)       # 인터발 1이상으로 줘야 데이터 취득가능(롤링시 데이터 로딩 시간 때문)\n",
        "        new_page_height = driver.execute_script(\"return document.documentElement.scrollHeight\")\n",
        "\n",
        "        if new_page_height == last_page_height:\n",
        "            break\n",
        "        last_page_height = new_page_height\n",
        "    html_source = driver.page_source\n",
        "    \n",
        "\n",
        "    # HTML 태크 크롤링 작업\n",
        "    soup = BeautifulSoup(html_source, \"html\")\n",
        "    print(soup.getText())\n",
        "    youtube_user_scripts = soup.select(\"cue-group-start-offset style-scope ytd-transcript-body-renderer\")\n",
        "    print(youtube_user_scripts)\n",
        "    str_youtube_scripts = []  # 스크립트\n",
        "\n",
        "    # REPLACE DATA\n",
        "    for i in range(len(youtube_user_scripts)):\n",
        "        str_tmp = str(youtube_user_scripts[i].text)\n",
        "        str_tmp = str_tmp.replace('\\n', '')\n",
        "        str_tmp = str_tmp.replace('\\t', '')\n",
        "        str_tmp = str_tmp.replace('   ','')\n",
        "        str_youtube_scripts.append(str_tmp)\n",
        "\n",
        "\n",
        "    pd_data = {\"script\":str_youtube_scripts}\n",
        "    youtube_pd = pd.DataFrame(pd_data)\n",
        "    driver.close()\n",
        "\n",
        "    return youtube_pd\n",
        "\n"
      ],
      "execution_count": null,
      "outputs": []
    },
    {
      "cell_type": "code",
      "metadata": {
        "id": "ijwDpdwC1B6c",
        "colab_type": "code",
        "colab": {
          "base_uri": "https://localhost:8080/",
          "height": 53
        },
        "outputId": "5fa36998-cbaa-4c68-c183-09b5a78bd0d2"
      },
      "source": [
        "get_script_df(\"https://www.youtube.com/watch?v=8VEgHf47CuM&list=PLdyB3s37qpTNCur1L88nYLJQgZfgzK5Sn&index=48\")"
      ],
      "execution_count": null,
      "outputs": [
        {
          "output_type": "stream",
          "text": [
            "/usr/local/lib/python3.6/dist-packages/ipykernel_launcher.py:3: DeprecationWarning: use options instead of chrome_options\n",
            "  This is separate from the ipykernel package so we can avoid doing imports until\n"
          ],
          "name": "stderr"
        }
      ]
    },
    {
      "cell_type": "code",
      "metadata": {
        "id": "JDhl3Jc-4Pr3",
        "colab_type": "code",
        "colab": {}
      },
      "source": [
        ""
      ],
      "execution_count": null,
      "outputs": []
    }
  ]
}
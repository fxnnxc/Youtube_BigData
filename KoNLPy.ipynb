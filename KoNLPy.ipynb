{
 "metadata": {
  "language_info": {
   "codemirror_mode": {
    "name": "ipython",
    "version": 3
   },
   "file_extension": ".py",
   "mimetype": "text/x-python",
   "name": "python",
   "nbconvert_exporter": "python",
   "pygments_lexer": "ipython3",
   "version": "3.7.4-final"
  },
  "orig_nbformat": 2,
  "kernelspec": {
   "name": "python_defaultSpec_1596442407243",
   "display_name": "Python 3.7.4 64-bit ('base': conda)"
  }
 },
 "nbformat": 4,
 "nbformat_minor": 2,
 "cells": [
  {
   "cell_type": "markdown",
   "metadata": {},
   "source": [
    "# 한국어 형태소 분석기 KoNLPy\n",
    "\n",
    "pip install konlpy\n",
    "\n",
    "pip install jpype1==0.7.0"
   ]
  },
  {
   "cell_type": "code",
   "execution_count": 3,
   "metadata": {},
   "outputs": [],
   "source": [
    "import konlpy\n",
    "from konlpy.tag import Kkma\n",
    "from konlpy.utils import pprint"
   ]
  },
  {
   "cell_type": "code",
   "execution_count": 4,
   "metadata": {},
   "outputs": [],
   "source": [
    "sent = u\"안녕하세요. 오늘 날씨가 참 좋은게 수업 빠지기 좋은 날씨입니다. \""
   ]
  },
  {
   "cell_type": "code",
   "execution_count": 5,
   "metadata": {
    "tags": []
   },
   "outputs": [
    {
     "output_type": "stream",
     "name": "stdout",
     "text": "['안녕하세요.', '오늘 날씨가 참 좋은 게 수업 빠지기 좋은 날씨입니다.']\n"
    }
   ],
   "source": [
    "kkma = Kkma()\n",
    "pprint(kkma.sentences(sent))"
   ]
  },
  {
   "cell_type": "code",
   "execution_count": 6,
   "metadata": {
    "tags": []
   },
   "outputs": [
    {
     "output_type": "stream",
     "name": "stdout",
     "text": "[('안녕', 'NNG'),\n ('하', 'XSV'),\n ('세요', 'EFN'),\n ('.', 'SF'),\n ('오늘', 'NNG'),\n ('날씨', 'NNG'),\n ('가', 'JKS'),\n ('참', 'MAG'),\n ('좋', 'VA'),\n ('은', 'ETD'),\n ('것', 'NNB'),\n ('이', 'JKS'),\n ('수업', 'NNG'),\n ('빠지', 'VV'),\n ('기', 'ETN'),\n ('좋', 'VA'),\n ('은', 'ETD'),\n ('날씨', 'NNG'),\n ('이', 'VCP'),\n ('ㅂ니다', 'EFN'),\n ('.', 'SF')]\n"
    }
   ],
   "source": [
    "pprint(kkma.pos(sent))"
   ]
  },
  {
   "cell_type": "code",
   "execution_count": 7,
   "metadata": {
    "tags": []
   },
   "outputs": [
    {
     "output_type": "stream",
     "name": "stdout",
     "text": "[('아버지', 'Noun'), ('가', 'Josa'), ('방', 'Noun'), ('에', 'Josa'), ('들어가신다', 'Verb')]\n[('아버지', 'Noun'), ('가방', 'Noun'), ('에', 'Josa'), ('들어가신다', 'Verb')]\n"
    }
   ],
   "source": [
    "from konlpy.tag import Okt\n",
    "okt = Okt()\n",
    "\n",
    "print(okt.pos('아버지가 방에 들어가신다'))\n",
    "print(okt.pos('아버지가방에들어가신다'))\n",
    "#"
   ]
  },
  {
   "cell_type": "markdown",
   "metadata": {},
   "source": []
  }
 ]
}
{
 "metadata": {
  "language_info": {
   "codemirror_mode": {
    "name": "ipython",
    "version": 3
   },
   "file_extension": ".py",
   "mimetype": "text/x-python",
   "name": "python",
   "nbconvert_exporter": "python",
   "pygments_lexer": "ipython3",
   "version": "3.7.4-final"
  },
  "orig_nbformat": 2,
  "kernelspec": {
   "name": "python_defaultSpec_1596622989804",
   "display_name": "Python 3.7.4 64-bit ('base': conda)"
  }
 },
 "nbformat": 4,
 "nbformat_minor": 2,
 "cells": [
  {
   "cell_type": "code",
   "execution_count": 6,
   "metadata": {},
   "outputs": [],
   "source": [
    "import matplotlib.pyplot as plt\n",
    "import pandas as pd "
   ]
  },
  {
   "cell_type": "code",
   "execution_count": 45,
   "metadata": {},
   "outputs": [],
   "source": [
    "data = pd.read_excel('data.xlsx')"
   ]
  },
  {
   "cell_type": "code",
   "execution_count": 48,
   "metadata": {},
   "outputs": [
    {
     "output_type": "execute_result",
     "data": {
      "text/plain": "     number                                            comment  likes  \\\n0         2  0:13 0:13 내 수술 들어올래? 이거 진짜 미친 거 아님? 누가 수술 들어올래...     59   \n1         2                                       조정석 너무잘생김 ..     32   \n2         2                   화신이가 수술들어오라는 것 같앜ㅋㅋㅋㅋ♡♡ 짜릿햌ㅋㅋㅋㅌㅋ     13   \n3         2                                  내 심장부터 먼저 수술해라...     13   \n4         2        미처ㅠㅠㅠㅠㅠㅠㅠㅠ이 영상보고 오나귀 다시 정주행하러 달려갑니다ㅜㅜㅜㅜㅜ하ㅜㅜ      8   \n..      ...                                                ...    ...   \n771      12                                 English pleyazzzzz      0   \n772      12  아..... 송화 치홍에 미련을 못버렸었는데.... 오늘 폭망이네.... 송화 익준...      1   \n773      12  익송 익송 익송 익송 익송 익송 익송 익송 익송 익송 익송 익송 익송 익송 익송 익...      0   \n774      12    솔직히 채송화 반말하는 안치홍한테 설렜잖아ㅜㅜ 설렜다고 말해!! 왜 말을 못하냐고!!      3   \n775      12                      치홍이는 눈치껏 빠져라 쫌 옆에서 그러는거 꼴보기싫다      2   \n\n     sentiment  \n0            1  \n1            1  \n2            1  \n3            1  \n4            1  \n..         ...  \n771          0  \n772          0  \n773          0  \n774          0  \n775          0  \n\n[776 rows x 4 columns]",
      "text/html": "<div>\n<style scoped>\n    .dataframe tbody tr th:only-of-type {\n        vertical-align: middle;\n    }\n\n    .dataframe tbody tr th {\n        vertical-align: top;\n    }\n\n    .dataframe thead th {\n        text-align: right;\n    }\n</style>\n<table border=\"1\" class=\"dataframe\">\n  <thead>\n    <tr style=\"text-align: right;\">\n      <th></th>\n      <th>number</th>\n      <th>comment</th>\n      <th>likes</th>\n      <th>sentiment</th>\n    </tr>\n  </thead>\n  <tbody>\n    <tr>\n      <th>0</th>\n      <td>2</td>\n      <td>0:13 0:13 내 수술 들어올래? 이거 진짜 미친 거 아님? 누가 수술 들어올래...</td>\n      <td>59</td>\n      <td>1</td>\n    </tr>\n    <tr>\n      <th>1</th>\n      <td>2</td>\n      <td>조정석 너무잘생김 ..</td>\n      <td>32</td>\n      <td>1</td>\n    </tr>\n    <tr>\n      <th>2</th>\n      <td>2</td>\n      <td>화신이가 수술들어오라는 것 같앜ㅋㅋㅋㅋ♡♡ 짜릿햌ㅋㅋㅋㅌㅋ</td>\n      <td>13</td>\n      <td>1</td>\n    </tr>\n    <tr>\n      <th>3</th>\n      <td>2</td>\n      <td>내 심장부터 먼저 수술해라...</td>\n      <td>13</td>\n      <td>1</td>\n    </tr>\n    <tr>\n      <th>4</th>\n      <td>2</td>\n      <td>미처ㅠㅠㅠㅠㅠㅠㅠㅠ이 영상보고 오나귀 다시 정주행하러 달려갑니다ㅜㅜㅜㅜㅜ하ㅜㅜ</td>\n      <td>8</td>\n      <td>1</td>\n    </tr>\n    <tr>\n      <th>...</th>\n      <td>...</td>\n      <td>...</td>\n      <td>...</td>\n      <td>...</td>\n    </tr>\n    <tr>\n      <th>771</th>\n      <td>12</td>\n      <td>English pleyazzzzz</td>\n      <td>0</td>\n      <td>0</td>\n    </tr>\n    <tr>\n      <th>772</th>\n      <td>12</td>\n      <td>아..... 송화 치홍에 미련을 못버렸었는데.... 오늘 폭망이네.... 송화 익준...</td>\n      <td>1</td>\n      <td>0</td>\n    </tr>\n    <tr>\n      <th>773</th>\n      <td>12</td>\n      <td>익송 익송 익송 익송 익송 익송 익송 익송 익송 익송 익송 익송 익송 익송 익송 익...</td>\n      <td>0</td>\n      <td>0</td>\n    </tr>\n    <tr>\n      <th>774</th>\n      <td>12</td>\n      <td>솔직히 채송화 반말하는 안치홍한테 설렜잖아ㅜㅜ 설렜다고 말해!! 왜 말을 못하냐고!!</td>\n      <td>3</td>\n      <td>0</td>\n    </tr>\n    <tr>\n      <th>775</th>\n      <td>12</td>\n      <td>치홍이는 눈치껏 빠져라 쫌 옆에서 그러는거 꼴보기싫다</td>\n      <td>2</td>\n      <td>0</td>\n    </tr>\n  </tbody>\n</table>\n<p>776 rows × 4 columns</p>\n</div>"
     },
     "metadata": {},
     "execution_count": 48
    }
   ],
   "source": [
    "data"
   ]
  },
  {
   "cell_type": "code",
   "execution_count": 69,
   "metadata": {},
   "outputs": [],
   "source": [
    "data['sentiment'] = 0\n",
    "data.loc[data['likes']>10,'sentiment']=1"
   ]
  },
  {
   "cell_type": "code",
   "execution_count": 70,
   "metadata": {},
   "outputs": [],
   "source": [
    "word_dict = {}\n",
    "\n",
    "number = 0 \n",
    "for d in data['comment']:\n",
    "    d = str(d)\n",
    "    sent = d.split(' ')\n",
    "    for w in sent:\n",
    "        if w in word_dict:\n",
    "            word_dict[w][1] +=1\n",
    "        else:\n",
    "            word_dict[w] = [number, 1]\n",
    "            number+=1"
   ]
  },
  {
   "cell_type": "code",
   "execution_count": 71,
   "metadata": {
    "tags": []
   },
   "outputs": [
    {
     "output_type": "stream",
     "name": "stdout",
     "text": "5306\n18\n"
    }
   ],
   "source": [
    "# Number of Sentences S\n",
    "# Number of Classes N\n",
    "\n",
    "# Assumes there are more than 100 sentencces\n",
    "S = len(data)\n",
    "low  = 0.05*S\n",
    "high = 1.0*S\n",
    "\n",
    "word_dict2 = {}\n",
    "number = 0\n",
    "for w in word_dict:\n",
    "  if low < word_dict[w][1] < high:\n",
    "    word_dict2[w] = word_dict[w]\n",
    "    word_dict2[w][0] = number\n",
    "    number+=1\n",
    "\n",
    "\n",
    "print(len(word_dict))\n",
    "print(len(word_dict2))"
   ]
  },
  {
   "cell_type": "code",
   "execution_count": 72,
   "metadata": {
    "tags": []
   },
   "outputs": [
    {
     "output_type": "stream",
     "name": "stdout",
     "text": "X:(776, 5306)\ny:(776,)\n"
    }
   ],
   "source": [
    "import numpy as np\n",
    "from sklearn.preprocessing import MinMaxScaler\n",
    "\n",
    "def category(v):\n",
    "  if v =='positive': \n",
    "    return 1\n",
    "  else:\n",
    "    return 0\n",
    "\n",
    "#y = np.array(list(map(category, data['sentiment'])))\n",
    "y= data['sentiment'].values\n",
    "x = np.zeros((len(data), len(word_dict)))\n",
    "\n",
    "# Make X\n",
    "for i, d in enumerate(data['comment']):\n",
    "  d= str(d)\n",
    "  sent = d.split(' ')\n",
    "  for w in sent:\n",
    "      try:\n",
    "        index  = word_dict[w][0]\n",
    "        x[i, index] +=1   \n",
    "      except:\n",
    "        pass\n",
    "\n",
    "# Normalize\n",
    "scaler = MinMaxScaler()\n",
    "scaler.fit(x)\n",
    "x = scaler.transform(x)\n",
    "print(f\"X:{x.shape}\")\n",
    "print(f\"y:{y.shape}\")"
   ]
  },
  {
   "cell_type": "code",
   "execution_count": 73,
   "metadata": {
    "tags": []
   },
   "outputs": [
    {
     "output_type": "stream",
     "name": "stdout",
     "text": "[LibLinear]SVC Accuracy: 0.703862660944206\nRF Accuracy: 0.7510729613733905\n"
    }
   ],
   "source": [
    "# Models \n",
    "from sklearn.svm import LinearSVC\n",
    "from sklearn.neighbors import KNeighborsClassifier\n",
    "from sklearn.naive_bayes import GaussianNB\n",
    "from sklearn import tree\n",
    "from sklearn.ensemble import RandomForestClassifier\n",
    "from sklearn.model_selection import train_test_split\n",
    "from sklearn.metrics import accuracy_score\n",
    "\n",
    "X_train, X_test, y_train, y_test = train_test_split(x, y, test_size=.3,random_state=0)\n",
    "\n",
    "\n",
    "svc = LinearSVC(random_state=0, tol=1e-5, verbose=1)\n",
    "gaunb = GaussianNB()\n",
    "dt = tree.DecisionTreeClassifier()\n",
    "rf = RandomForestClassifier()\n",
    "\n",
    "# Training \n",
    "\n",
    "\n",
    "svc.fit(X_train, y_train).decision_function(X_test)\n",
    "print(f\"SVC Accuracy: {accuracy_score(svc.predict(X_test),y_test)}\")\n",
    "rf.fit(X_train, y_train)\n",
    "print(f\"RF Accuracy: {accuracy_score(rf.predict(X_test),y_test)}\")"
   ]
  },
  {
   "cell_type": "code",
   "execution_count": 74,
   "metadata": {},
   "outputs": [
    {
     "output_type": "execute_result",
     "data": {
      "text/plain": "172"
     },
     "metadata": {},
     "execution_count": 74
    }
   ],
   "source": [
    "temp = data['likes']>20\n",
    "temp.sum()"
   ]
  },
  {
   "cell_type": "code",
   "execution_count": 88,
   "metadata": {
    "tags": []
   },
   "outputs": [
    {
     "output_type": "execute_result",
     "data": {
      "text/plain": "[205, 275, 359, 1377, 2904, 3837]"
     },
     "metadata": {},
     "execution_count": 88
    }
   ],
   "source": [
    "lst = []\n",
    "for i,j in enumerate(rf.feature_importances_):\n",
    "    if j>0.006:\n",
    "        lst.append(i)\n",
    "lst\n",
    "    "
   ]
  },
  {
   "cell_type": "code",
   "execution_count": 89,
   "metadata": {
    "tags": []
   },
   "outputs": [
    {
     "output_type": "stream",
     "name": "stdout",
     "text": "ㅠㅠㅠㅠ\n오빠랑\n사람\npreview\n곰곰커플!!!!\n99즈오래가자영원하자사랑해코로나잠잠해지면티비엔팬미팅해야하는거날즤?이대로가지마라\n"
    }
   ],
   "source": [
    "for j,i in word_dict.items():\n",
    "    if i[0] in lst:\n",
    "        print(j)"
   ]
  },
  {
   "cell_type": "code",
   "execution_count": 75,
   "metadata": {
    "tags": []
   },
   "outputs": [
    {
     "output_type": "stream",
     "name": "stdout",
     "text": "precision    recall  f1-score   support\n\n           0       0.76      0.97      0.85       172\n           1       0.62      0.13      0.22        61\n\n    accuracy                           0.75       233\n   macro avg       0.69      0.55      0.53       233\nweighted avg       0.72      0.75      0.69       233\n\n"
    },
    {
     "output_type": "execute_result",
     "data": {
      "text/plain": "array([[167,   5],\n       [ 53,   8]], dtype=int64)"
     },
     "metadata": {},
     "execution_count": 75
    }
   ],
   "source": [
    "from sklearn.metrics import confusion_matrix\n",
    "from sklearn.metrics import classification_report\n",
    "\n",
    "print(classification_report(y_test, rf.predict(X_test)))\n",
    "confusion_matrix(y_test, rf.predict(X_test))"
   ]
  }
 ]
}
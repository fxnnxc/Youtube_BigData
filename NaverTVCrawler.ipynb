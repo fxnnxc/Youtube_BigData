{
 "metadata": {
  "language_info": {
   "codemirror_mode": {
    "name": "ipython",
    "version": 3
   },
   "file_extension": ".py",
   "mimetype": "text/x-python",
   "name": "python",
   "nbconvert_exporter": "python",
   "pygments_lexer": "ipython3",
   "version": "3.7.4-final"
  },
  "orig_nbformat": 2,
  "kernelspec": {
   "name": "python_defaultSpec_1596721074142",
   "display_name": "Python 3.7.4 64-bit ('base': conda)"
  }
 },
 "nbformat": 4,
 "nbformat_minor": 2,
 "cells": [
  {
   "cell_type": "code",
   "execution_count": 1,
   "metadata": {
    "tags": []
   },
   "outputs": [
    {
     "output_type": "stream",
     "name": "stdout",
     "text": "Requirement already satisfied: selenium in c:\\users\\beomj\\anaconda3\\lib\\site-packages (3.141.0)\nRequirement already satisfied: urllib3 in c:\\users\\beomj\\anaconda3\\lib\\site-packages (from selenium) (1.25.9)\nRequirement already satisfied: webdriver-manager in c:\\users\\beomj\\anaconda3\\lib\\site-packages (3.2.1)\nRequirement already satisfied: crayons in c:\\users\\beomj\\anaconda3\\lib\\site-packages (from webdriver-manager) (0.3.1)\nRequirement already satisfied: configparser in c:\\users\\beomj\\anaconda3\\lib\\site-packages (from webdriver-manager) (5.0.0)\nRequirement already satisfied: requests in c:\\users\\beomj\\anaconda3\\lib\\site-packages (from webdriver-manager) (2.24.0)\nRequirement already satisfied: colorama in c:\\users\\beomj\\anaconda3\\lib\\site-packages (from crayons->webdriver-manager) (0.4.3)\nRequirement already satisfied: urllib3!=1.25.0,!=1.25.1,<1.26,>=1.21.1 in c:\\users\\beomj\\anaconda3\\lib\\site-packages (from requests->webdriver-manager) (1.25.9)\nRequirement already satisfied: idna<3,>=2.5 in c:\\users\\beomj\\anaconda3\\lib\\site-packages (from requests->webdriver-manager) (2.10)\nRequirement already satisfied: chardet<4,>=3.0.2 in c:\\users\\beomj\\anaconda3\\lib\\site-packages (from requests->webdriver-manager) (3.0.4)\nRequirement already satisfied: certifi>=2017.4.17 in c:\\users\\beomj\\anaconda3\\lib\\site-packages (from requests->webdriver-manager) (2020.6.20)\n"
    }
   ],
   "source": [
    "!pip install selenium\n",
    "!pip install webdriver-manager"
   ]
  },
  {
   "cell_type": "code",
   "execution_count": 2,
   "metadata": {
    "tags": []
   },
   "outputs": [
    {
     "output_type": "stream",
     "name": "stderr",
     "text": "[WDM] - Current google-chrome version is 84.0.4147\n[WDM] - Get LATEST driver version for 84.0.4147\n[WDM] - Driver [C:\\Users\\beomj\\.wdm\\drivers\\chromedriver\\win32\\84.0.4147.30\\chromedriver.exe] found in cache\n \n"
    }
   ],
   "source": [
    "import pandas as pd\n",
    "from selenium import webdriver\n",
    "from webdriver_manager.chrome import ChromeDriverManager\n",
    "\n",
    "driver = webdriver.Chrome(ChromeDriverManager().install())"
   ]
  },
  {
   "cell_type": "code",
   "execution_count": 3,
   "metadata": {
    "tags": []
   },
   "outputs": [],
   "source": [
    "import time\n",
    "\n",
    "from bs4 import BeautifulSoup\n",
    "from selenium import webdriver\n",
    "from selenium.common import exceptions\n",
    "\n",
    "addr = \"https://tv.naver.com/jtbc.skycastle/talks\" \n",
    "# 크롤링하고자하는 사이트 주소\n",
    "# 개인적으론 모바일 페이지로 하는게 더 가볍고 빠를것같은 기분이 든다.\n",
    "\n",
    "driver.get(addr)\n",
    "time.sleep(1.5)\n",
    "comments = []\n",
    "date = []\n",
    "cur_page = []   \n",
    "\n",
    "\n",
    "for P in range(1000):\n",
    "    try:\n",
    "        if P!=0:\n",
    "            driver.find_element_by_link_text(\"다음\").click()\n",
    "            time.sleep(1)\n",
    "        html = driver.page_source\n",
    "        dom = BeautifulSoup(html, \"lxml\")\n",
    "        comments_raw = dom.find_all(\"div\", {\"class\" : \"u_cbox_area\"})\n",
    "        for comment in comments_raw:    \n",
    "            comments.append(comment.find(\"span\", {'class': \"u_cbox_contents\", \"data-lang\":\"ko\"}).text)\n",
    "            date.append(comment.find(\"span\", {'class':'u_cbox_date'}).get('data-value'))\n",
    "            cur_page.append(P*5+1)\n",
    "    except:\n",
    "        pass\n",
    "    for page in range(2,6):\n",
    "        try:\n",
    "            driver.find_element_by_link_text(str(5*P+page)).click()\n",
    "            time.sleep(1)\n",
    "            html = driver.page_source\n",
    "            dom = BeautifulSoup(html, \"lxml\")\n",
    "\n",
    "            comments_raw = dom.find_all(\"div\", {\"class\" : \"u_cbox_area\"})\n",
    "            for comment in comments_raw:\n",
    "                if comment:\n",
    "                    comments.append(comment.find(\"span\", {'class': \"u_cbox_contents\", \"data-lang\":\"ko\"}).text)\n",
    "                    date.append(comment.find(\"span\", {'class':'u_cbox_date'}).get('data-value'))\n",
    "                    cur_page.append(P*5+page)\n",
    "        except:\n",
    "                pass\n",
    "                    \n",
    "        "
   ]
  },
  {
   "cell_type": "code",
   "execution_count": 4,
   "metadata": {},
   "outputs": [
    {
     "output_type": "execute_result",
     "data": {
      "text/plain": "                                                    date  page\ncomment                                                       \nㅋㅋ                                                     9     9\n스캐2                                                    8     8\n스캐2  ♡♡♡                                               6     6\nㅋㅋㅋ                                                    5     5\nㅋ                                                      4     4\n...                                                  ...   ...\n막화 제일 별로임                                              1     1\n막화 때문에 캔슬                                              1     1\n막판에 작가바뀜?                                              1     1\n막판에 끝나기도 전에 출연자들 너무 노출해서 신비감 떨어지고 최종회 보고난 후론 진짜...     1     1\n🏥                                                      1     1\n\n[1399 rows x 2 columns]",
      "text/html": "<div>\n<style scoped>\n    .dataframe tbody tr th:only-of-type {\n        vertical-align: middle;\n    }\n\n    .dataframe tbody tr th {\n        vertical-align: top;\n    }\n\n    .dataframe thead th {\n        text-align: right;\n    }\n</style>\n<table border=\"1\" class=\"dataframe\">\n  <thead>\n    <tr style=\"text-align: right;\">\n      <th></th>\n      <th>date</th>\n      <th>page</th>\n    </tr>\n    <tr>\n      <th>comment</th>\n      <th></th>\n      <th></th>\n    </tr>\n  </thead>\n  <tbody>\n    <tr>\n      <th>ㅋㅋ</th>\n      <td>9</td>\n      <td>9</td>\n    </tr>\n    <tr>\n      <th>스캐2</th>\n      <td>8</td>\n      <td>8</td>\n    </tr>\n    <tr>\n      <th>스캐2  ♡♡♡</th>\n      <td>6</td>\n      <td>6</td>\n    </tr>\n    <tr>\n      <th>ㅋㅋㅋ</th>\n      <td>5</td>\n      <td>5</td>\n    </tr>\n    <tr>\n      <th>ㅋ</th>\n      <td>4</td>\n      <td>4</td>\n    </tr>\n    <tr>\n      <th>...</th>\n      <td>...</td>\n      <td>...</td>\n    </tr>\n    <tr>\n      <th>막화 제일 별로임</th>\n      <td>1</td>\n      <td>1</td>\n    </tr>\n    <tr>\n      <th>막화 때문에 캔슬</th>\n      <td>1</td>\n      <td>1</td>\n    </tr>\n    <tr>\n      <th>막판에 작가바뀜?</th>\n      <td>1</td>\n      <td>1</td>\n    </tr>\n    <tr>\n      <th>막판에 끝나기도 전에 출연자들 너무 노출해서 신비감 떨어지고 최종회 보고난 후론 진짜 재미없어진 드라마..ㅜ</th>\n      <td>1</td>\n      <td>1</td>\n    </tr>\n    <tr>\n      <th>🏥</th>\n      <td>1</td>\n      <td>1</td>\n    </tr>\n  </tbody>\n</table>\n<p>1399 rows × 2 columns</p>\n</div>"
     },
     "metadata": {},
     "execution_count": 4
    }
   ],
   "source": [
    "df = pd.DataFrame({'comment':comments,'date':date,'page':cur_page})\n",
    "temp = df.groupby(['comment']).count()\n",
    "\n",
    "temp.sort_values(by='date',ascending=False)"
   ]
  },
  {
   "cell_type": "code",
   "execution_count": 5,
   "metadata": {},
   "outputs": [],
   "source": [
    "# 저장\n",
    "df.to_csv(\"df.csv\", index=False)"
   ]
  },
  {
   "cell_type": "code",
   "execution_count": null,
   "metadata": {},
   "outputs": [],
   "source": []
  }
 ]
}